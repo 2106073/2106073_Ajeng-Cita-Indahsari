{
  "nbformat": 4,
  "nbformat_minor": 0,
  "metadata": {
    "colab": {
      "provenance": []
    },
    "kernelspec": {
      "name": "python3",
      "display_name": "Python 3"
    },
    "language_info": {
      "name": "python"
    }
  },
  "cells": [
    {
      "cell_type": "markdown",
      "source": [
        "sourcode ke 1"
      ],
      "metadata": {
        "id": "IhDhMGgXjYaq"
      }
    },
    {
      "cell_type": "code",
      "execution_count": 38,
      "metadata": {
        "colab": {
          "base_uri": "https://localhost:8080/"
        },
        "id": "5fdBEz4GY63g",
        "outputId": "3f7b0b82-cca9-401c-c6a9-18115fb00ea1"
      },
      "outputs": [
        {
          "output_type": "stream",
          "name": "stdout",
          "text": [
            "0 1 3 2 8 9 \n"
          ]
        }
      ],
      "source": [
        "from queue import PriorityQueue\n",
        "v = 14\n",
        "graph = [[] for i in range(v)]\n",
        " \n",
        "def best_first_search(actual_Src, target, n):\n",
        "    visited = [False] * n\n",
        "    pq = PriorityQueue()\n",
        "    pq.put((0, actual_Src))\n",
        "    visited[actual_Src] = True\n",
        "     \n",
        "    while pq.empty() == False:\n",
        "        u = pq.get()[1]\n",
        "        print(u, end=\" \")\n",
        "        if u == target:\n",
        "            break\n",
        " \n",
        "        for v, c in graph[u]:\n",
        "            if visited[v] == False:\n",
        "                visited[v] = True\n",
        "                pq.put((c, v))\n",
        "    print()\n",
        " \n",
        " \n",
        "def addedge(x, y, cost):\n",
        "    graph[x].append((y, cost))\n",
        "    graph[y].append((x, cost))\n",
        " \n",
        "\n",
        "addedge(0, 1, 3)\n",
        "addedge(0, 2, 6)\n",
        "addedge(0, 3, 5)\n",
        "addedge(1, 4, 9)\n",
        "addedge(1, 5, 8)\n",
        "addedge(2, 6, 12)\n",
        "addedge(2, 7, 14)\n",
        "addedge(3, 8, 7)\n",
        "addedge(8, 9, 5)\n",
        "addedge(8, 10, 6)\n",
        "addedge(9, 11, 1)\n",
        "addedge(9, 12, 10)\n",
        "addedge(9, 13, 2)\n",
        " \n",
        "source = 0\n",
        "target = 9\n",
        "best_first_search(source, target, v)"
      ]
    },
    {
      "cell_type": "markdown",
      "source": [
        "sourcode ke 2\n"
      ],
      "metadata": {
        "id": "CjCpawtdjKXf"
      }
    },
    {
      "cell_type": "code",
      "source": [
        "import queue\n",
        "import matplotlib.pyplot as plt\n",
        "\n",
        "# getting heuristics from file\n",
        "def getHeuristics():\n",
        "    heuristics = {}\n",
        "    f = open(\"/content/heuristics.txt\")\n",
        "    for i in f.readlines():\n",
        "        node_heuristic_val = i.split()\n",
        "        heuristics[node_heuristic_val[0]] = int(node_heuristic_val[1])\n",
        "\n",
        "    return heuristics\n",
        "# getting cities location from file\n",
        "def getCity():\n",
        "    city = {}\n",
        "    citiesCode = {}\n",
        "    f = open(\"/content/cities.txt\")\n",
        "    j = 1\n",
        "    for i in f.readlines():\n",
        "        node_city_val = i.split()\n",
        "        city[node_city_val[0]] = [int(node_city_val[1]), int(node_city_val[2])]\n",
        "\n",
        "        citiesCode[j] = node_city_val[0]\n",
        "        j += 1\n",
        "\n",
        "    return city, citiesCode\n",
        "# creating cities graph from file\n",
        "def createGraph():\n",
        "    graph = {}\n",
        "    file = open(\"/content/citiesGraph.txt\")\n",
        "    for i in file.readlines():\n",
        "        node_val = i.split()\n",
        "\n",
        "        if node_val[0] in graph and node_val[1] in graph:\n",
        "            c = graph.get(node_val[0])\n",
        "            c.append([node_val[1], node_val[2]])\n",
        "            graph.update({node_val[0]: c})\n",
        "            c = graph.get(node_val[1])\n",
        "            c.append([node_val[0], node_val[2]])\n",
        "            graph.update({node_val[1]: c})\n",
        "\n",
        "        elif node_val[0] in graph:\n",
        "            c = graph.get(node_val[0])\n",
        "            c.append([node_val[1], node_val[2]])\n",
        "            graph.update({node_val[0]: c})\n",
        "            graph[node_val[1]] = [[node_val[0], node_val[2]]]\n",
        "\n",
        "        elif node_val[1] in graph:\n",
        "            c = graph.get(node_val[1])\n",
        "            c.append([node_val[0], node_val[2]])\n",
        "            graph.update({node_val[1]: c})\n",
        "            graph[node_val[0]] = [[node_val[1], node_val[2]]]\n",
        "\n",
        "        else:\n",
        "            graph[node_val[0]] = [[node_val[1], node_val[2]]]\n",
        "            graph[node_val[1]] = [[node_val[0], node_val[2]]]\n",
        "    return graph\n",
        "# Greedy Best First Search Algorithm\n",
        "def GBFS(startNode, heuristics, graph, goalNode=\"Bucharest\"):\n",
        "    priorityQueue = queue.PriorityQueue()\n",
        "    priorityQueue.put((heuristics[startNode], startNode))\n",
        "    path = []\n",
        "    while priorityQueue.empty() == False:\n",
        "        current = priorityQueue.get()[1]\n",
        "        path.append(current)\n",
        "        if current == goalNode:\n",
        "            break\n",
        "        priorityQueue = queue.PriorityQueue()\n",
        "        for i in graph[current]:\n",
        "            if i[0] not in path:\n",
        "                priorityQueue.put((heuristics[i[0]], i[0]))\n",
        "    return path\n",
        "# drawing map of answer\n",
        "def drawMap(city, gbfs, graph):\n",
        "  for i, j in city.items():\n",
        "    plt.plot(j[0], j[1], \"ro\")\n",
        "    plt.annotate(i, (j[0] + 5, j[1]))\n",
        "    for k in graph [i]:\n",
        "      n = city[k[0]]\n",
        "      plt.plot([j[0], n[0]], [j[1], n[1]], \"gray\")\n",
        "  for i in range(len(gbfs)):\n",
        "    try:\n",
        "      first = city[gbfs[i]]\n",
        "      secend = city[gbfs[i + 1]]\n",
        "      plt.plot([first[0], secend[0]], [first[1], secend[1]], \"green\")\n",
        "    except:\n",
        "      continue\n",
        "  plt.errorbar(1, 1, label=\"GBFS\", color=\"green\")\n",
        "  plt.legend(loc=\"lower left\")\n",
        "  plt.show\n",
        "# running the program\n",
        "def main():\n",
        "    heuristic = getHeuristics()\n",
        "    graph = createGraph()\n",
        "    city, citiesCode = getCity()\n",
        "    for i, j in citiesCode.items():\n",
        "        print(i, j)\n",
        "    while True:\n",
        "        inputCode = int(input(\"Masukan nomor KOTA ASAL (0 untuk keluar): \"))\n",
        "        if inputCode == 0:\n",
        "            break\n",
        "        cityName = citiesCode[inputCode]\n",
        "        gbfs = GBFS(cityName, heuristic, graph)\n",
        "        print(\"GBFS => \", gbfs)\n",
        "        drawMap(city, gbfs, graph)\n",
        "main()"
      ],
      "metadata": {
        "colab": {
          "base_uri": "https://localhost:8080/",
          "height": 664
        },
        "id": "50LgYw2nhsc8",
        "outputId": "5fe35cae-6f86-44d8-d998-e54ab3622c1e"
      },
      "execution_count": 47,
      "outputs": [
        {
          "name": "stdout",
          "output_type": "stream",
          "text": [
            "1 Arad\n",
            "2 Bucharest\n",
            "3 Craiova\n",
            "4 Dobreta\n",
            "5 Eforie\n",
            "6 Fagaras\n",
            "7 Giurgiu\n",
            "8 Hirsova\n",
            "9 Iasi\n",
            "10 Lugoj\n",
            "11 Mehadia\n",
            "12 Neamt\n",
            "13 Oradea\n",
            "14 Pitesti\n",
            "15 Rimnicu_Vilcea\n",
            "16 Sibiu\n",
            "17 Timisoara\n",
            "18 Urziceni\n",
            "19 Vaslui\n",
            "20 Zerind\n",
            "Masukan nomor KOTA ASAL (0 untuk keluar): 12\n",
            "GBFS =>  ['Neamt', 'Iasi', 'Vaslui', 'Urziceni', 'Bucharest']\n",
            "Masukan nomor KOTA ASAL (0 untuk keluar): 0\n"
          ]
        },
        {
          "output_type": "display_data",
          "data": {
            "text/plain": [
              "<Figure size 432x288 with 1 Axes>"
            ],
            "image/png": "[encoded data removed]"
          },
          "metadata": {
            "needs_background": "light"
          }
        }
      ]
    },
    {
      "cell_type": "markdown",
      "source": [
        "sourcode ke 3"
      ],
      "metadata": {
        "id": "BT2tBVqvjUWw"
      }
    },
    {
      "cell_type": "code",
      "source": [
        "def Astar(startNode, heuristics, graph, goalNode=\"Bucharest\"):\n",
        "    priorityQueue = queue.PriorityQueue()\n",
        "    distance = 0\n",
        "    path = []\n",
        "    priorityQueue.put((heuristics[startNode] + distance, [startNode, 0]))\n",
        "    while priorityQueue.empty() == False:\n",
        "        current = priorityQueue.get()[1]\n",
        "        path.append(current[0])\n",
        "        distance += int(current[1])\n",
        "        if current[0] == goalNode:\n",
        "            break\n",
        "        priorityQueue = queue.PriorityQueue()\n",
        "        for i in graph[current[0]]:\n",
        "            if i[0] not in path:\n",
        "                priorityQueue.put((heuristics[i[0]] + int(i[1]) + distance, i))\n",
        "    return path\n",
        "# drawing map of answer\n",
        "def drawMap(city, gbfs, astar, graph):\n",
        "    for i, j in city.items():\n",
        "        plt.plot(j[0], j[1], \"ro\")\n",
        "        plt.annotate(i, (j[0] + 5, j[1]))\n",
        "        for k in graph[i]:\n",
        "            n = city[k[0]]\n",
        "            plt.plot([j[0], n[0]], [j[1], n[1]], \"gray\")\n",
        "    for i in range(len(gbfs)):\n",
        "        try:\n",
        "            first = city[gbfs[i]]\n",
        "            secend = city[gbfs[i + 1]]\n",
        "            plt.plot([first[0], secend[0]], [first[1], secend[1]], \"green\")\n",
        "        except:\n",
        "            continue\n",
        "    for i in range(len(astar)):\n",
        "        try:\n",
        "            first = city[astar[i]]\n",
        "            secend = city[astar[i + 1]]\n",
        "\n",
        "            plt.plot([first[0], secend[0]], [first[1], secend[1]], \"blue\")\n",
        "        except:\n",
        "            continue\n",
        "    plt.errorbar(1, 1, label=\"GBFS\", color=\"green\")\n",
        "    plt.errorbar(1, 1, label=\"ASTAR\", color=\"blue\")\n",
        "    plt.legend(loc=\"lower left\")\n",
        "    plt.show()\n",
        "# running the program\n",
        "def main():\n",
        "    heuristic = getHeuristics()\n",
        "    graph = createGraph()\n",
        "    city, citiesCode = getCity()\n",
        "    for i, j in citiesCode.items():\n",
        "        print(i, j)\n",
        "    while True:\n",
        "        inputCode = int(input(\"Masukan nomor KOTA ASAL (0 untuk keluar): \"))\n",
        "        if inputCode == 0:\n",
        "            break\n",
        "        cityName = citiesCode[inputCode]\n",
        "        gbfs = GBFS(cityName, heuristic, graph)\n",
        "        astar = Astar(cityName, heuristic, graph)\n",
        "        print(\"GBFS => \", gbfs)\n",
        "        print(\"ASTAR => \", astar)\n",
        "        drawMap(city, gbfs, astar, graph)\n",
        "main()"
      ],
      "metadata": {
        "colab": {
          "base_uri": "https://localhost:8080/"
        },
        "id": "8wTLLTdMi0jC",
        "outputId": "52c25491-310b-4238-f275-c20ae78b041a"
      },
      "execution_count": 48,
      "outputs": [
        {
          "name": "stdout",
          "output_type": "stream",
          "text": [
            "1 Arad\n",
            "2 Bucharest\n",
            "3 Craiova\n",
            "4 Dobreta\n",
            "5 Eforie\n",
            "6 Fagaras\n",
            "7 Giurgiu\n",
            "8 Hirsova\n",
            "9 Iasi\n",
            "10 Lugoj\n",
            "11 Mehadia\n",
            "12 Neamt\n",
            "13 Oradea\n",
            "14 Pitesti\n",
            "15 Rimnicu_Vilcea\n",
            "16 Sibiu\n",
            "17 Timisoara\n",
            "18 Urziceni\n",
            "19 Vaslui\n",
            "20 Zerind\n",
            "Masukan nomor KOTA ASAL (0 untuk keluar): 0\n"
          ]
        }
      ]
    }
  ]
}